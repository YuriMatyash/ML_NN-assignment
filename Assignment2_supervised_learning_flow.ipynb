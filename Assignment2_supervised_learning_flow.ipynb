{
 "cells": [
  {
   "cell_type": "markdown",
   "id": "ec202ada",
   "metadata": {},
   "source": [
    "# Assignment2 - Supervised Learning flow"
   ]
  },
  {
   "cell_type": "markdown",
   "id": "b06a2810",
   "metadata": {},
   "source": [
    "# Part 1(a) Student details:\n",
    "* Please write the First-Name, First letter of Last-Name and last 4 digits of the i.d. for each student. "
   ]
  },
  {
   "cell_type": "code",
   "execution_count": null,
   "id": "ca16486b",
   "metadata": {},
   "outputs": [],
   "source": [
    "# stundent details example: John S. 9812\n",
    "#                       student details 1: \n",
    "# (if exists)           student details 2: \n",
    "# (if exists)           student details 3: \n",
    "# (if exists&premitted) student details 4: "
   ]
  },
  {
   "cell_type": "markdown",
   "id": "abb64166-b32e-4b86-a7ee-84106c8b3a92",
   "metadata": {},
   "source": [
    "## Part 1(b) - Chat-GPT/other AI-agent/other assistance used:\n",
    "* If you changed the prompt until you got a satisfying answer, please add all versions\n",
    "* don't delete \"pre\" tags, so new-line is supported\n",
    "* double click the following markdown cell to change\n",
    "* press shift+enter to view\n",
    "* Add information:"
   ]
  },
  {
   "cell_type": "markdown",
   "id": "ea93f0d3-7aa1-4a95-b084-395f5f7c6c0c",
   "metadata": {},
   "source": [
    "#### Add information in this Markdown cell (double click to change, shift-enter to view)\n",
    "<pre>   \n",
    "AI agent name:\n",
    "Goal: \n",
    "Propmpt1:\n",
    "    \n",
    "Propmpt2:\n",
    "    \n",
    "Propmpt3: \n",
    "\n",
    "\n",
    "AI agent name 2:\n",
    "Goal:\n",
    "Propmpt1:\n",
    "    \n",
    "Propmpt2:\n",
    "    \n",
    "Propmpt3: \n",
    "\n",
    "Other assistanse:    \n",
    "</pre>"
   ]
  },
  {
   "cell_type": "markdown",
   "id": "0e4fbaab-e5a5-40ed-be0f-9a2cb7931a4b",
   "metadata": {},
   "source": [
    "## Part 1(c) - Learning Problem and dataset explaination.\n",
    "* Please explain in one paragraph\n",
    "* don't delete \"pre\" tags, so new-line is supported\n",
    "* double click the following markdown cell to change\n",
    "* press shift+enter to view\n",
    "* Add explaining text:"
   ]
  },
  {
   "cell_type": "markdown",
   "id": "dd8565df-2778-4b89-83bd-6b227063789f",
   "metadata": {},
   "source": [
    "#### Add information in this Markdown cell (double click to change, shift-enter to view)\n",
    "<pre>\n",
    "\n",
    "\n",
    "\n",
    "\n",
    "    \n",
    "</pre>"
   ]
  },
  {
   "cell_type": "markdown",
   "id": "df67c2ee-87c8-499c-a04f-1853c332f51d",
   "metadata": {},
   "source": [
    "## Part 2 - Initial Preparations \n",
    "You could add as many code cells as needed"
   ]
  },
  {
   "cell_type": "code",
   "execution_count": 2,
   "id": "b29b3454-b568-4614-8017-f15b3c59fc55",
   "metadata": {},
   "outputs": [],
   "source": [
    "import pandas as pd"
   ]
  },
  {
   "cell_type": "code",
   "execution_count": null,
   "id": "4b47fe56-d611-4b28-be92-673db4d56400",
   "metadata": {},
   "outputs": [
    {
     "name": "stdout",
     "output_type": "stream",
     "text": [
      "First 5 rows of wine_train:\n",
      "   alcohol  malic_acid   ash  alcalinity_of_ash  magnesium  total_phenols  \\\n",
      "0    12.08        1.83  2.32               18.5       81.0           1.60   \n",
      "1    13.58        2.58  2.69               24.5      105.0           1.55   \n",
      "2    12.37        0.94  1.36               10.6       88.0           1.98   \n",
      "3    11.82        1.72  1.88               19.5       86.0           2.50   \n",
      "4    13.16        3.57  2.15               21.0      102.0           1.50   \n",
      "\n",
      "   flavanoids  nonflavanoid_phenols  proanthocyanins  color_intensity   hue  \\\n",
      "0        1.50                  0.52             1.64             2.40  1.08   \n",
      "1        0.84                  0.39             1.54             8.66  0.74   \n",
      "2        0.57                  0.28             0.42             1.95  1.05   \n",
      "3        1.64                  0.37             1.42             2.06  0.94   \n",
      "4        0.55                  0.43             1.30             4.00  0.60   \n",
      "\n",
      "   od280/od315_of_diluted_wines  proline  target  \n",
      "0                          2.27    480.0       1  \n",
      "1                          1.80    750.0       2  \n",
      "2                          1.82    520.0       1  \n",
      "3                          2.44    415.0       1  \n",
      "4                          1.68    830.0       2  \n",
      "First 5 rows of wine_test:\n",
      "   alcohol  malic_acid   ash  alcalinity_of_ash  magnesium  total_phenols  \\\n",
      "0    13.78        2.76  2.30               22.0       90.0           1.35   \n",
      "1    14.02        1.68  2.21               16.0       96.0           2.65   \n",
      "2    13.17        5.19  2.32               22.0       93.0           1.74   \n",
      "3    11.03        1.51  2.20               21.5       85.0           2.46   \n",
      "4    13.40        3.91  2.48               23.0      102.0           1.80   \n",
      "\n",
      "   flavanoids  nonflavanoid_phenols  proanthocyanins  color_intensity   hue  \\\n",
      "0        0.68                  0.41             1.03             9.58  0.70   \n",
      "1        2.33                  0.26             1.98             4.70  1.04   \n",
      "2        0.63                  0.61             1.55             7.90  0.60   \n",
      "3        2.17                  0.52             2.01             1.90  1.71   \n",
      "4        0.75                  0.43             1.41             7.30  0.70   \n",
      "\n",
      "   od280/od315_of_diluted_wines  proline  target  \n",
      "0                          1.68    615.0       2  \n",
      "1                          3.59   1035.0       0  \n",
      "2                          1.48    725.0       2  \n",
      "3                          2.87    407.0       1  \n",
      "4                          1.56    750.0       2  \n"
     ]
    }
   ],
   "source": [
    "train = pd.read_csv(\"wine_train.csv\")\n",
    "test  = pd.read_csv(\"wine_test.csv\")\n",
    "\n",
    "# Prints the first 5 rows of each dataset\n",
    "print(\"First 5 rows of wine_train:\")\n",
    "print(train.head(5))\n",
    "print(\"\\nFirst 5 rows of wine_test:\")\n",
    "print(test.head(5))\n",
    "\n",
    "# Split each dataset to data and labels\n",
    "train_data = train.drop('target', axis=1)\n",
    "train_labels = train['target']\n",
    "test_data = test.drop('target', axis=1)\n",
    "test_labels = test['target']"
   ]
  },
  {
   "cell_type": "code",
   "execution_count": null,
   "id": "53e27610-b640-4db0-80c9-789b5f5fae58",
   "metadata": {},
   "outputs": [],
   "source": []
  },
  {
   "cell_type": "markdown",
   "id": "fb36672a",
   "metadata": {},
   "source": [
    "## Part 3 - Experiments\n",
    "You could add as many code cells as needed"
   ]
  },
  {
   "cell_type": "code",
   "execution_count": null,
   "id": "b7098585",
   "metadata": {},
   "outputs": [],
   "source": []
  },
  {
   "cell_type": "code",
   "execution_count": null,
   "id": "097afb02",
   "metadata": {},
   "outputs": [],
   "source": []
  },
  {
   "cell_type": "code",
   "execution_count": null,
   "id": "1fa9ec73",
   "metadata": {},
   "outputs": [],
   "source": []
  },
  {
   "cell_type": "code",
   "execution_count": null,
   "id": "937b653d",
   "metadata": {},
   "outputs": [],
   "source": []
  },
  {
   "cell_type": "markdown",
   "id": "67d97f11",
   "metadata": {},
   "source": [
    "## Part 4 - Training \n",
    "Use the best combination of feature engineering, model (algorithm and hyperparameters) from the experiment part (part 3)"
   ]
  },
  {
   "cell_type": "code",
   "execution_count": null,
   "id": "93713ead",
   "metadata": {},
   "outputs": [],
   "source": []
  },
  {
   "cell_type": "code",
   "execution_count": null,
   "id": "c0fc460d",
   "metadata": {},
   "outputs": [],
   "source": []
  },
  {
   "cell_type": "code",
   "execution_count": null,
   "id": "064ad0a0",
   "metadata": {},
   "outputs": [],
   "source": []
  },
  {
   "cell_type": "markdown",
   "id": "259ab902",
   "metadata": {},
   "source": [
    "## Part 5 - Apply on test and show model performance estimation"
   ]
  },
  {
   "cell_type": "code",
   "execution_count": null,
   "id": "d9971aa5",
   "metadata": {},
   "outputs": [],
   "source": []
  },
  {
   "cell_type": "code",
   "execution_count": null,
   "id": "00d8aa96",
   "metadata": {},
   "outputs": [],
   "source": []
  }
 ],
 "metadata": {
  "kernelspec": {
   "display_name": "Python 3",
   "language": "python",
   "name": "python3"
  },
  "language_info": {
   "codemirror_mode": {
    "name": "ipython",
    "version": 3
   },
   "file_extension": ".py",
   "mimetype": "text/x-python",
   "name": "python",
   "nbconvert_exporter": "python",
   "pygments_lexer": "ipython3",
   "version": "3.12.3"
  }
 },
 "nbformat": 4,
 "nbformat_minor": 5
}
